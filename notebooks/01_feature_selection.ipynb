{
 "cells": [
  {
   "cell_type": "markdown",
   "metadata": {},
   "source": [
    "# Feature Selection\n",
    "\n",
    "This notebook performs feature selection using mutual information regression and saves the selected features for model training."
   ]
  },
  {
   "cell_type": "code",
   "execution_count": 1,
   "metadata": {},
   "outputs": [
    {
     "name": "stdout",
     "output_type": "stream",
     "text": [
      "Added /Users/gregor/Documents/Projects/avm_xgboost to Python path\n"
     ]
    }
   ],
   "source": [
    "# Add project root to Python path\n",
    "import sys\n",
    "from pathlib import Path\n",
    "project_root = str(Path().absolute().parent)\n",
    "if project_root not in sys.path:\n",
    "    sys.path.append(project_root)\n",
    "\n",
    "print(f\"Added {project_root} to Python path\")\n",
    "\n",
    "\n",
    "# Imports\n",
    "import mlflow\n",
    "import joblib\n",
    "import pandas as pd\n",
    "import matplotlib.pyplot as plt\n",
    "import seaborn as sns\n",
    "from src.config import ModelConfig, FeatureSelectionConfig, MLFlowConfig, PathConfig,XGBoostFeatureSelectionConfig\n",
    "from src.data.data_loader import DataLoader\n",
    "from src.features.feature_selector import FeatureSelector"
   ]
  },
  {
   "cell_type": "markdown",
   "metadata": {},
   "source": [
    "## Initialize Configurations"
   ]
  },
  {
   "cell_type": "code",
   "execution_count": 2,
   "metadata": {},
   "outputs": [],
   "source": [
    "# Initialize configs\n",
    "path_config = PathConfig()\n",
    "path_config.setup_dirs()\n",
    "\n",
    "mlflow_config = MLFlowConfig(tracking_uri=\"local\", experiment_name=\"feature_selection\")\n",
    "model_config = ModelConfig()\n",
    "feature_config = FeatureSelectionConfig()\n",
    "\n",
    "mlflow_config.setup_tracking()"
   ]
  },
  {
   "cell_type": "markdown",
   "metadata": {},
   "source": [
    "## Load and Examine Data"
   ]
  },
  {
   "cell_type": "code",
   "execution_count": 3,
   "metadata": {},
   "outputs": [],
   "source": [
    "path_config.raw_data = '../data/raw/avm_modeling_dataset.xlsx'"
   ]
  },
  {
   "cell_type": "code",
   "execution_count": 5,
   "metadata": {},
   "outputs": [
    {
     "name": "stdout",
     "output_type": "stream",
     "text": [
      "Training set shape: (47397, 23)\n",
      "Test set shape: (11823, 23)\n"
     ]
    }
   ],
   "source": [
    "# Load and split data\n",
    "data_loader = DataLoader(model_config)\n",
    "\n",
    "exclude_cols = [\n",
    "    'year',                # temporal feature, don't scale\n",
    "    'month'             # temporal feature, don't scale\n",
    "]\n",
    "\n",
    "# Load and preprocess data\n",
    "data_loader = DataLoader(model_config)\n",
    "X_train, X_test,  y_train, y_test, train_years = data_loader.load_data(\n",
    "    path_config.raw_data,\n",
    "    exclude_from_scaling=exclude_cols\n",
    ")\n",
    "\n",
    "print(f\"Training set shape: {X_train.shape}\")\n",
    "print(f\"Test set shape: {X_test.shape}\")"
   ]
  },
  {
   "cell_type": "markdown",
   "metadata": {},
   "source": [
    "## Feature Selection Process"
   ]
  },
  {
   "cell_type": "code",
   "execution_count": 8,
   "metadata": {},
   "outputs": [],
   "source": [
    "# In your notebook or training script\n",
    "feature_config = FeatureSelectionConfig(\n",
    "    n_features=7,\n",
    "    #selection_method=\"importance\",\n",
    "    xgboost_params=XGBoostFeatureSelectionConfig(\n",
    "        params={\n",
    "            'objective': 'reg:squarederror',\n",
    "            'eval_metric': 'rmse',\n",
    "            'max_depth': 10,\n",
    "            'learning_rate': 0.1,\n",
    "            'n_estimators': 50,\n",
    "            'subsample': 0.8,\n",
    "            'colsample_bytree': 0.8,\n",
    "            'min_child_weight': 5,\n",
    "            'random_state': 42\n",
    "        }\n",
    "    )\n",
    ")\n",
    "\n",
    "# Feature selection with specific XGBoost parameters\n",
    "with mlflow.start_run():\n",
    "    feature_selector = FeatureSelector(feature_config)\n",
    "    \n",
    "    selected_features_imp = feature_selector.select_by_importance(\n",
    "            X_train, y_train, X_test )# sequential\n",
    "    \n",
    "    selected_features_seq = feature_selector.select_sequential(\n",
    "            X_train, y_train, X_test\n",
    "        )"
   ]
  },
  {
   "cell_type": "code",
   "execution_count": 15,
   "metadata": {},
   "outputs": [],
   "source": [
    "from src.models.xgboost_analyzer import XGBoostAnalyzer"
   ]
  },
  {
   "cell_type": "code",
   "execution_count": 21,
   "metadata": {},
   "outputs": [
    {
     "name": "stdout",
     "output_type": "stream",
     "text": [
      "\n",
      "Test Set Metrics:\n",
      "test_rmse: 706.5487\n",
      "test_r2: 0.7103\n"
     ]
    }
   ],
   "source": [
    "#Create datasets with selected features\n",
    "X_train_selected = X_train[selected_features_imp]\n",
    "X_test_selected = X_test[selected_features_imp]\n",
    "\n",
    "# Initialize and train XGBoost model with feature_config parameters\n",
    "xgb_model = XGBoostAnalyzer(feature_config)\n",
    "xgb_model.train(X_train_selected, y_train)\n",
    "\n",
    "# Evaluate model\n",
    "metrics = xgb_model.evaluate(X_test_selected, y_test, dataset_name=\"test\")\n",
    "print(\"\\nTest Set Metrics:\")\n",
    "for name, value in metrics.items():\n",
    "    print(f\"{name}: {value:.4f}\")\n",
    "\n",
    "# Plot actual vs predicted\n",
    "xgb_model.plot_predictions(X_test_selected, y_test, dataset_name=\"test\")\n",
    "\n"
   ]
  },
  {
   "cell_type": "code",
   "execution_count": 22,
   "metadata": {},
   "outputs": [
    {
     "name": "stdout",
     "output_type": "stream",
     "text": [
      "\n",
      "Test Set Metrics:\n",
      "test_rmse: 661.8015\n",
      "test_r2: 0.7458\n"
     ]
    }
   ],
   "source": [
    "#Create datasets with selected features\n",
    "X_train_selected = X_train[selected_features_seq]\n",
    "X_test_selected = X_test[selected_features_seq]\n",
    "\n",
    "# Initialize and train XGBoost model with feature_config parameters\n",
    "xgb_model = XGBoostAnalyzer(feature_config)\n",
    "xgb_model.train(X_train_selected, y_train)\n",
    "\n",
    "# Evaluate model\n",
    "metrics = xgb_model.evaluate(X_test_selected, y_test, dataset_name=\"test\")\n",
    "print(\"\\nTest Set Metrics:\")\n",
    "for name, value in metrics.items():\n",
    "    print(f\"{name}: {value:.4f}\")\n",
    "\n",
    "# Plot actual vs predicted\n",
    "xgb_model.plot_predictions(X_test_selected, y_test, dataset_name=\"test\")\n"
   ]
  },
  {
   "cell_type": "code",
   "execution_count": 23,
   "metadata": {},
   "outputs": [
    {
     "data": {
      "text/plain": [
       "['data/interim/processed_data.joblib']"
      ]
     },
     "execution_count": 23,
     "metadata": {},
     "output_type": "execute_result"
    }
   ],
   "source": [
    "# Save processed data with selected features\n",
    "joblib.dump({\n",
    "    \"X_train\": X_train_selected,\n",
    "    \"X_test\": X_test_selected,\n",
    "    \"y_train\": y_train,\n",
    "    \"y_test\": y_test,\n",
    "    \"train_years\": train_years\n",
    "}, path_config.interim_dir / \"processed_data.joblib\")"
   ]
  },
  {
   "cell_type": "code",
   "execution_count": 18,
   "metadata": {},
   "outputs": [
    {
     "ename": "AttributeError",
     "evalue": "'XGBoostAnalyzer' object has no attribute 'evals_result'",
     "output_type": "error",
     "traceback": [
      "\u001b[0;31m---------------------------------------------------------------------------\u001b[0m",
      "\u001b[0;31mAttributeError\u001b[0m                            Traceback (most recent call last)",
      "Cell \u001b[0;32mIn[19], line 1\u001b[0m\n\u001b[0;32m----> 1\u001b[0m results \u001b[38;5;241m=\u001b[39m \u001b[43mxgb_model\u001b[49m\u001b[38;5;241;43m.\u001b[39;49m\u001b[43mevals_result\u001b[49m()\n",
      "\u001b[0;31mAttributeError\u001b[0m: 'XGBoostAnalyzer' object has no attribute 'evals_result'"
     ]
    }
   ],
   "source": [
    "results = xgb_model.model.evals_result()\n",
    "        \n"
   ]
  },
  {
   "cell_type": "markdown",
   "metadata": {},
   "source": [
    "results = xgb_model.model.evals_result()\n",
    "        \n",
    "plt.figure(figsize=(10, 6))\n",
    "plt.plot(results['validation_0']['rmse'], label='train')\n",
    "plt.plot(results['validation_1']['rmse'], label='validation')"
   ]
  },
  {
   "cell_type": "code",
   "execution_count": 13,
   "metadata": {},
   "outputs": [
    {
     "data": {
      "text/plain": [
       "['space_desc_lvl_1',\n",
       " 'space_desc_lvl_2',\n",
       " 'longitude',\n",
       " 'latitude',\n",
       " 'year',\n",
       " 'atrium_area',\n",
       " 'floor_count']"
      ]
     },
     "execution_count": 13,
     "metadata": {},
     "output_type": "execute_result"
    }
   ],
   "source": [
    "selected_features_imp"
   ]
  },
  {
   "cell_type": "code",
   "execution_count": 14,
   "metadata": {},
   "outputs": [
    {
     "data": {
      "text/plain": [
       "['space_desc_lvl_2',\n",
       " 'net_area',\n",
       " 'age',\n",
       " 'longitude',\n",
       " 'latitude',\n",
       " 'floor_count',\n",
       " 'year']"
      ]
     },
     "execution_count": 14,
     "metadata": {},
     "output_type": "execute_result"
    }
   ],
   "source": [
    "selected_features_seq"
   ]
  },
  {
   "cell_type": "code",
   "execution_count": 9,
   "metadata": {},
   "outputs": [],
   "source": [
    "latest_run = mlflow.search_runs(\n",
    "    experiment_names=[\"feature_selection\"],\n",
    "    order_by=[\"start_time DESC\"]\n",
    ")"
   ]
  },
  {
   "cell_type": "markdown",
   "metadata": {},
   "source": [
    "## Analyze Selected Features"
   ]
  },
  {
   "cell_type": "code",
   "execution_count": null,
   "metadata": {},
   "outputs": [],
   "source": [
    "# Plot correlation matrix of selected features\n",
    "plt.figure(figsize=(12, 8))\n",
    "correlation_matrix = X_train.corr()\n",
    "sns.heatmap(correlation_matrix, annot=True, cmap='coolwarm', center=0)\n",
    "plt.title('Correlation Matrix of Selected Features')\n",
    "plt.tight_layout()\n",
    "plt.show()"
   ]
  },
  {
   "cell_type": "code",
   "execution_count": null,
   "metadata": {},
   "outputs": [],
   "source": [
    "# Plot distribution of target variable by year\n",
    "plt.figure(figsize=(12, 6))\n",
    "sns.boxplot(x=train_years, y=y_train)\n",
    "plt.title('Distribution of Price/m² by Year')\n",
    "plt.xlabel('Year')\n",
    "plt.ylabel('Price/m²')\n",
    "plt.xticks(rotation=45)\n",
    "plt.show()"
   ]
  },
  {
   "cell_type": "markdown",
   "metadata": {},
   "source": [
    "## Save Selected Features and Processed Data"
   ]
  },
  {
   "cell_type": "code",
   "execution_count": 11,
   "metadata": {},
   "outputs": [
    {
     "name": "stdout",
     "output_type": "stream",
     "text": [
      "Saved processed data and selected features to: data/interim\n"
     ]
    }
   ],
   "source": [
    "# Save selected features and transformed data\n",
    "joblib.dump(selected_features, path_config.interim_dir / \"selected_features.joblib\")\n",
    "joblib.dump({\n",
    "    \"X_train\": X_train_selected,\n",
    "    \"X_test\": X_test_selected,\n",
    "    \"y_train\": y_train,\n",
    "    \"y_test\": y_test,\n",
    "    \"train_years\": train_years\n",
    "}, path_config.interim_dir / \"processed_data.joblib\")\n",
    "\n",
    "print(\"Saved processed data and selected features to:\", path_config.interim_dir)"
   ]
  }
 ],
 "metadata": {
  "kernelspec": {
   "display_name": ".env",
   "language": "python",
   "name": "python3"
  },
  "language_info": {
   "codemirror_mode": {
    "name": "ipython",
    "version": 3
   },
   "file_extension": ".py",
   "mimetype": "text/x-python",
   "name": "python",
   "nbconvert_exporter": "python",
   "pygments_lexer": "ipython3",
   "version": "3.12.4"
  }
 },
 "nbformat": 4,
 "nbformat_minor": 4
}
