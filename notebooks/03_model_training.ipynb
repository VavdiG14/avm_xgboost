{
 "cells": [
  {
   "cell_type": "code",
   "execution_count": null,
   "metadata": {},
   "outputs": [
    {
     "name": "stdout",
     "output_type": "stream",
     "text": [
      "Added /Users/gregor/Documents/Projects/avm_xgboost to Python path\n"
     ]
    },
    {
     "name": "stderr",
     "output_type": "stream",
     "text": [
      "/Users/gregor/Documents/Projects/avm_xgboost/.env/lib/python3.12/site-packages/tqdm/auto.py:21: TqdmWarning: IProgress not found. Please update jupyter and ipywidgets. See https://ipywidgets.readthedocs.io/en/stable/user_install.html\n",
      "  from .autonotebook import tqdm as notebook_tqdm\n"
     ]
    }
   ],
   "source": [
    "# Add project root to Python path\n",
    "import sys\n",
    "from pathlib import Path\n",
    "project_root = str(Path().absolute().parent)\n",
    "if project_root not in sys.path:\n",
    "    sys.path.append(project_root)\n",
    "\n",
    "print(f\"Added {project_root} to Python path\")\n",
    "\n",
    "\n",
    "# Imports\n",
    "import mlflow\n",
    "import joblib\n",
    "import pandas as pd\n",
    "import matplotlib.pyplot as plt\n",
    "import seaborn as sns\n",
    "from src.config import ModelConfig, FeatureSelectionConfig, MLFlowConfig, PathConfig,XGBoostFeatureSelectionConfig, OptunaConfig\n",
    "from src.models.optimizer import OptunaOptimizer\n",
    "from src.models.xgboost_analyzer import XGBoostAnalyzer\n",
    "import xgboost as xgb"
   ]
  },
  {
   "cell_type": "code",
   "execution_count": 2,
   "metadata": {},
   "outputs": [],
   "source": [
    "path_config = PathConfig()\n",
    "path_config.setup_dirs()\n",
    "\n",
    "mlflow_config = MLFlowConfig(tracking_uri=\"local\", experiment_name=\"model_optimization\")\n",
    "model_config = ModelConfig()\n",
    "optuna_config = OptunaConfig()\n",
    "\n",
    "# Setup MLflow tracking\n",
    "mlflow_config.setup_tracking()"
   ]
  },
  {
   "cell_type": "code",
   "execution_count": 3,
   "metadata": {},
   "outputs": [],
   "source": [
    "\n",
    "# Load processed data and selected features\n",
    "processed_data = joblib.load(path_config.interim_dir / \"processed_data.joblib\")\n",
    "#selected_features = joblib.load(path_config.interim_dir / \"selected_features.joblib\")\n",
    "\n",
    "X_train = processed_data[\"X_train\"]\n",
    "y_train = processed_data[\"y_train\"]\n",
    "X_test = processed_data[\"X_test\"]\n",
    "y_test = processed_data[\"y_test\"]\n",
    "train_years = processed_data[\"train_years\"]\n"
   ]
  },
  {
   "cell_type": "code",
   "execution_count": 4,
   "metadata": {},
   "outputs": [],
   "source": [
    "# Initialize optimizer with selected features\n",
    "optimizer = OptunaOptimizer(\n",
    "    optuna_config,\n",
    "    processed_data[\"X_train\"],\n",
    "    processed_data[\"y_train\"],\n",
    "    processed_data[\"train_years\"],\n",
    "    selected_features=X_train.columns\n",
    ")"
   ]
  },
  {
   "cell_type": "code",
   "execution_count": 5,
   "metadata": {},
   "outputs": [
    {
     "data": {
      "text/plain": [
       "OptunaConfig(n_trials=100, timeout=1800, study_name='xgboost_optimization', random_state=42)"
      ]
     },
     "execution_count": 5,
     "metadata": {},
     "output_type": "execute_result"
    }
   ],
   "source": [
    "optimizer.config"
   ]
  },
  {
   "cell_type": "code",
   "execution_count": 6,
   "metadata": {},
   "outputs": [
    {
     "name": "stderr",
     "output_type": "stream",
     "text": [
      "[I 2025-02-16 22:30:51,557] A new study created in memory with name: no-name-f9457711-e85c-40ac-9b03-dd4cb4784913\n",
      "[I 2025-02-16 22:30:53,286] Trial 0 finished with value: 701.8364434823491 and parameters: {'max_depth': 9, 'learning_rate': 0.47416099566677206, 'n_estimators': 210, 'min_child_weight': 9, 'subsample': 0.959565529445799, 'colsample_bytree': 0.8401371351894575, 'gamma': 1.2738636185576213, 'reg_alpha': 4.9511276147604155, 'reg_lambda': 4.692908566189995}. Best is trial 0 with value: 701.8364434823491.\n",
      "[I 2025-02-16 22:30:54,301] Trial 1 finished with value: 693.0471834537739 and parameters: {'max_depth': 3, 'learning_rate': 0.4876587424903872, 'n_estimators': 498, 'min_child_weight': 7, 'subsample': 0.7151463605592163, 'colsample_bytree': 0.8980595331168236, 'gamma': 2.6071093006665254, 'reg_alpha': 3.1989091444645497, 'reg_lambda': 4.396311412498139}. Best is trial 1 with value: 693.0471834537739.\n",
      "[I 2025-02-16 22:30:55,317] Trial 2 finished with value: 714.2288485561305 and parameters: {'max_depth': 5, 'learning_rate': 0.020989452698860284, 'n_estimators': 224, 'min_child_weight': 7, 'subsample': 0.9485626442920059, 'colsample_bytree': 0.7048436125419401, 'gamma': 3.459421237011405, 'reg_alpha': 1.9044196475207347, 'reg_lambda': 0.39035446249127026}. Best is trial 1 with value: 693.0471834537739.\n",
      "[I 2025-02-16 22:30:57,271] Trial 3 finished with value: 677.350964926715 and parameters: {'max_depth': 11, 'learning_rate': 0.18472216451825782, 'n_estimators': 146, 'min_child_weight': 3, 'subsample': 0.9936559136851204, 'colsample_bytree': 0.8430239656303797, 'gamma': 2.124296800511405, 'reg_alpha': 2.187611449126817, 'reg_lambda': 2.767129881391015}. Best is trial 3 with value: 677.350964926715.\n",
      "[I 2025-02-16 22:30:58,614] Trial 4 finished with value: 682.6440327756396 and parameters: {'max_depth': 8, 'learning_rate': 0.23296907541739592, 'n_estimators': 227, 'min_child_weight': 15, 'subsample': 0.7219915396436338, 'colsample_bytree': 0.9673281974286099, 'gamma': 2.894003991301986, 'reg_alpha': 1.171115495907567, 'reg_lambda': 0.7423522907493996}. Best is trial 3 with value: 677.350964926715.\n",
      "[I 2025-02-16 22:30:59,841] Trial 5 finished with value: 683.9446322136073 and parameters: {'max_depth': 4, 'learning_rate': 0.32710051747396723, 'n_estimators': 433, 'min_child_weight': 7, 'subsample': 0.8623018046871709, 'colsample_bytree': 0.9790638148049686, 'gamma': 4.401427833208673, 'reg_alpha': 2.3185271019819202, 'reg_lambda': 1.3456823192061795}. Best is trial 3 with value: 677.350964926715.\n",
      "[I 2025-02-16 22:31:00,249] Trial 6 finished with value: 695.2824224880708 and parameters: {'max_depth': 3, 'learning_rate': 0.13963299920630529, 'n_estimators': 192, 'min_child_weight': 13, 'subsample': 0.950845934628563, 'colsample_bytree': 0.960630173179036, 'gamma': 2.249337307387875, 'reg_alpha': 0.43469310415568063, 'reg_lambda': 0.6770918903969098}. Best is trial 3 with value: 677.350964926715.\n",
      "[I 2025-02-16 22:31:00,741] Trial 7 finished with value: 688.329425115131 and parameters: {'max_depth': 4, 'learning_rate': 0.0771686136000968, 'n_estimators': 202, 'min_child_weight': 2, 'subsample': 0.9849460874610949, 'colsample_bytree': 0.9508714089579715, 'gamma': 1.3594535016034976, 'reg_alpha': 0.4713527330937689, 'reg_lambda': 4.839325121899539}. Best is trial 3 with value: 677.350964926715.\n",
      "[I 2025-02-16 22:31:07,479] Trial 8 finished with value: 729.7300133450656 and parameters: {'max_depth': 12, 'learning_rate': 0.4385749258432806, 'n_estimators': 322, 'min_child_weight': 3, 'subsample': 0.875764654035873, 'colsample_bytree': 0.7425052167897244, 'gamma': 4.400283706045232, 'reg_alpha': 3.5001506863074354, 'reg_lambda': 0.7789350156976588}. Best is trial 3 with value: 677.350964926715.\n",
      "[I 2025-02-16 22:31:13,831] Trial 9 finished with value: 716.2799651104965 and parameters: {'max_depth': 14, 'learning_rate': 0.4797164268358858, 'n_estimators': 266, 'min_child_weight': 9, 'subsample': 0.9919092561447994, 'colsample_bytree': 0.8661781397309145, 'gamma': 1.046118112402454, 'reg_alpha': 0.030179533788188273, 'reg_lambda': 1.1639734367700623}. Best is trial 3 with value: 677.350964926715.\n",
      "[I 2025-02-16 22:31:15,523] Trial 10 finished with value: 696.136635474144 and parameters: {'max_depth': 12, 'learning_rate': 0.2223634218049965, 'n_estimators': 107, 'min_child_weight': 4, 'subsample': 0.6040029994773102, 'colsample_bytree': 0.6165457060819381, 'gamma': 0.14212965150468948, 'reg_alpha': 3.9854518577035565, 'reg_lambda': 3.1166864806074797}. Best is trial 3 with value: 677.350964926715.\n",
      "[I 2025-02-16 22:31:16,356] Trial 11 finished with value: 675.4489406777718 and parameters: {'max_depth': 8, 'learning_rate': 0.23401117815842315, 'n_estimators': 123, 'min_child_weight': 15, 'subsample': 0.7464082743469465, 'colsample_bytree': 0.7924010193590106, 'gamma': 3.1033806701741216, 'reg_alpha': 1.599631644452192, 'reg_lambda': 2.6885507636814467}. Best is trial 11 with value: 675.4489406777718.\n",
      "[I 2025-02-16 22:31:17,085] Trial 12 finished with value: 679.7229719808638 and parameters: {'max_depth': 7, 'learning_rate': 0.3169299462098478, 'n_estimators': 111, 'min_child_weight': 12, 'subsample': 0.7562523430403517, 'colsample_bytree': 0.7481213729543432, 'gamma': 3.5055726151046707, 'reg_alpha': 1.5971526825597078, 'reg_lambda': 2.7304183151737678}. Best is trial 11 with value: 675.4489406777718.\n",
      "[I 2025-02-16 22:31:19,580] Trial 13 finished with value: 676.4122672634551 and parameters: {'max_depth': 11, 'learning_rate': 0.15750021888155236, 'n_estimators': 135, 'min_child_weight': 4, 'subsample': 0.6385265769580981, 'colsample_bytree': 0.8024556412046556, 'gamma': 2.070041040792427, 'reg_alpha': 2.7272590318781855, 'reg_lambda': 3.564348089636743}. Best is trial 11 with value: 675.4489406777718.\n",
      "[I 2025-02-16 22:31:28,695] Trial 14 finished with value: 716.5468784667016 and parameters: {'max_depth': 15, 'learning_rate': 0.31544905878748164, 'n_estimators': 333, 'min_child_weight': 5, 'subsample': 0.6235192175703983, 'colsample_bytree': 0.792718629923564, 'gamma': 3.4903303425666077, 'reg_alpha': 2.7216918048337004, 'reg_lambda': 3.7638402140253535}. Best is trial 11 with value: 675.4489406777718.\n",
      "[I 2025-02-16 22:31:30,406] Trial 15 finished with value: 674.8362329071892 and parameters: {'max_depth': 10, 'learning_rate': 0.14286185337267798, 'n_estimators': 139, 'min_child_weight': 11, 'subsample': 0.6807895207521305, 'colsample_bytree': 0.6503745774340599, 'gamma': 1.5919248830129475, 'reg_alpha': 1.4328386387787737, 'reg_lambda': 1.9858251740080082}. Best is trial 15 with value: 674.8362329071892.\n",
      "[I 2025-02-16 22:31:33,542] Trial 16 finished with value: 670.7944955873755 and parameters: {'max_depth': 7, 'learning_rate': 0.10041551741622451, 'n_estimators': 388, 'min_child_weight': 12, 'subsample': 0.6735426884427093, 'colsample_bytree': 0.6069919566240857, 'gamma': 0.7504206841743074, 'reg_alpha': 1.1437980462351218, 'reg_lambda': 1.9936708479219558}. Best is trial 16 with value: 670.7944955873755.\n",
      "[I 2025-02-16 22:31:35,401] Trial 17 finished with value: 671.7035546114762 and parameters: {'max_depth': 6, 'learning_rate': 0.09237739566539707, 'n_estimators': 391, 'min_child_weight': 11, 'subsample': 0.6750173694867714, 'colsample_bytree': 0.6041615464996505, 'gamma': 0.04254630910974133, 'reg_alpha': 1.0745962761622572, 'reg_lambda': 1.8894873868486488}. Best is trial 16 with value: 670.7944955873755.\n",
      "[I 2025-02-16 22:31:36,940] Trial 18 finished with value: 672.1402540704958 and parameters: {'max_depth': 6, 'learning_rate': 0.07706250554067562, 'n_estimators': 386, 'min_child_weight': 11, 'subsample': 0.800457470559978, 'colsample_bytree': 0.6001611133278552, 'gamma': 0.15182426827920603, 'reg_alpha': 0.8329656288339233, 'reg_lambda': 1.8922809198774722}. Best is trial 16 with value: 670.7944955873755.\n",
      "[I 2025-02-16 22:31:38,802] Trial 19 finished with value: 673.6994251340195 and parameters: {'max_depth': 6, 'learning_rate': 0.04084988366442564, 'n_estimators': 379, 'min_child_weight': 13, 'subsample': 0.6733091878248766, 'colsample_bytree': 0.6622641334481836, 'gamma': 0.7931151418650089, 'reg_alpha': 0.8818357784565182, 'reg_lambda': 1.8758156958689918}. Best is trial 16 with value: 670.7944955873755.\n",
      "[I 2025-02-16 22:31:41,088] Trial 20 finished with value: 671.3427338534252 and parameters: {'max_depth': 7, 'learning_rate': 0.09469258615241571, 'n_estimators': 441, 'min_child_weight': 10, 'subsample': 0.7933692468898756, 'colsample_bytree': 0.6748053415848126, 'gamma': 0.5368542370758764, 'reg_alpha': 0.11931154056545168, 'reg_lambda': 0.021015222575312853}. Best is trial 16 with value: 670.7944955873755.\n",
      "[I 2025-02-16 22:31:43,613] Trial 21 finished with value: 672.0251098019908 and parameters: {'max_depth': 7, 'learning_rate': 0.09902584825442975, 'n_estimators': 448, 'min_child_weight': 10, 'subsample': 0.7993987926709835, 'colsample_bytree': 0.6567403921690833, 'gamma': 0.6985009110379548, 'reg_alpha': 0.03614096591073743, 'reg_lambda': 0.22217538488720084}. Best is trial 16 with value: 670.7944955873755.\n",
      "[I 2025-02-16 22:31:45,441] Trial 22 finished with value: 671.9027542000135 and parameters: {'max_depth': 6, 'learning_rate': 0.10805506025866216, 'n_estimators': 388, 'min_child_weight': 12, 'subsample': 0.6616756422688822, 'colsample_bytree': 0.685625662740458, 'gamma': 0.4974245972780884, 'reg_alpha': 0.6460763114151429, 'reg_lambda': 1.4599112297268448}. Best is trial 16 with value: 670.7944955873755.\n",
      "[I 2025-02-16 22:31:48,712] Trial 23 finished with value: 669.7279821163613 and parameters: {'max_depth': 8, 'learning_rate': 0.05057870166851948, 'n_estimators': 435, 'min_child_weight': 9, 'subsample': 0.803838444041661, 'colsample_bytree': 0.6264033579254769, 'gamma': 0.10055642117556718, 'reg_alpha': 1.1864464519228866, 'reg_lambda': 2.1590828230186143}. Best is trial 23 with value: 669.7279821163613.\n",
      "[I 2025-02-16 22:31:52,784] Trial 24 finished with value: 665.196430248955 and parameters: {'max_depth': 9, 'learning_rate': 0.04425381966746744, 'n_estimators': 497, 'min_child_weight': 9, 'subsample': 0.8432690701161603, 'colsample_bytree': 0.7153113846139332, 'gamma': 0.5304158337432708, 'reg_alpha': 0.3378443221090932, 'reg_lambda': 2.389378400065429}. Best is trial 24 with value: 665.196430248955.\n",
      "[I 2025-02-16 22:31:56,726] Trial 25 finished with value: 665.937322301268 and parameters: {'max_depth': 9, 'learning_rate': 0.042828939715348985, 'n_estimators': 492, 'min_child_weight': 8, 'subsample': 0.8638249819663169, 'colsample_bytree': 0.7241388585836451, 'gamma': 1.6969253783414875, 'reg_alpha': 1.3551612211201092, 'reg_lambda': 2.30836438744052}. Best is trial 24 with value: 665.196430248955.\n",
      "[I 2025-02-16 22:32:02,169] Trial 26 finished with value: 668.1647705218811 and parameters: {'max_depth': 9, 'learning_rate': 0.03544542827758539, 'n_estimators': 497, 'min_child_weight': 6, 'subsample': 0.8741175593468897, 'colsample_bytree': 0.7140075787841812, 'gamma': 1.6675103135558929, 'reg_alpha': 1.9288972174125734, 'reg_lambda': 2.3361676491165393}. Best is trial 24 with value: 665.196430248955.\n",
      "[I 2025-02-16 22:32:13,557] Trial 27 finished with value: 671.4793718762135 and parameters: {'max_depth': 10, 'learning_rate': 0.010004609948452294, 'n_estimators': 493, 'min_child_weight': 5, 'subsample': 0.8857855342261756, 'colsample_bytree': 0.7252959437495752, 'gamma': 1.6815734531047877, 'reg_alpha': 1.6658671777203646, 'reg_lambda': 3.3096301179285867}. Best is trial 24 with value: 665.196430248955.\n",
      "[I 2025-02-16 22:32:18,032] Trial 28 finished with value: 666.1549094361914 and parameters: {'max_depth': 9, 'learning_rate': 0.04735847273613008, 'n_estimators': 470, 'min_child_weight': 6, 'subsample': 0.849896695875209, 'colsample_bytree': 0.7658742340147235, 'gamma': 1.8065273883995747, 'reg_alpha': 2.0734711483582386, 'reg_lambda': 2.224145205931864}. Best is trial 24 with value: 665.196430248955.\n",
      "[I 2025-02-16 22:32:22,118] Trial 29 finished with value: 711.243722207706 and parameters: {'max_depth': 9, 'learning_rate': 0.3943210473098472, 'n_estimators': 463, 'min_child_weight': 8, 'subsample': 0.8394709011284606, 'colsample_bytree': 0.7621164970476756, 'gamma': 1.134346190544592, 'reg_alpha': 4.568742498787949, 'reg_lambda': 4.079600210417031}. Best is trial 24 with value: 665.196430248955.\n",
      "[I 2025-02-16 22:32:26,588] Trial 30 finished with value: 686.1679246041285 and parameters: {'max_depth': 10, 'learning_rate': 0.18149942039713923, 'n_estimators': 469, 'min_child_weight': 8, 'subsample': 0.9161532607808143, 'colsample_bytree': 0.7797203041338198, 'gamma': 1.8488856582043827, 'reg_alpha': 3.0898906131777437, 'reg_lambda': 3.053438949121595}. Best is trial 24 with value: 665.196430248955.\n",
      "[I 2025-02-16 22:32:31,299] Trial 31 finished with value: 669.287196260412 and parameters: {'max_depth': 9, 'learning_rate': 0.050779153740198694, 'n_estimators': 481, 'min_child_weight': 6, 'subsample': 0.8368424791592727, 'colsample_bytree': 0.7108694365147062, 'gamma': 1.4229447934113724, 'reg_alpha': 2.02916149410702, 'reg_lambda': 2.3448832221571934}. Best is trial 24 with value: 665.196430248955.\n",
      "[I 2025-02-16 22:32:35,798] Trial 32 finished with value: 667.993055760003 and parameters: {'max_depth': 9, 'learning_rate': 0.039992942213015525, 'n_estimators': 500, 'min_child_weight': 6, 'subsample': 0.9074781026744396, 'colsample_bytree': 0.7016285305670815, 'gamma': 2.4939230537158803, 'reg_alpha': 2.530035726773296, 'reg_lambda': 2.448860557474839}. Best is trial 24 with value: 665.196430248955.\n",
      "[I 2025-02-16 22:32:42,803] Trial 33 finished with value: 675.365981882489 and parameters: {'max_depth': 11, 'learning_rate': 0.010121971108120648, 'n_estimators': 411, 'min_child_weight': 8, 'subsample': 0.9158784553029164, 'colsample_bytree': 0.8206618702481856, 'gamma': 2.468154761420016, 'reg_alpha': 2.542893065791155, 'reg_lambda': 1.4494654593282714}. Best is trial 24 with value: 665.196430248955.\n",
      "[I 2025-02-16 22:32:47,580] Trial 34 finished with value: 670.1934115045365 and parameters: {'max_depth': 10, 'learning_rate': 0.04753984449026104, 'n_estimators': 466, 'min_child_weight': 6, 'subsample': 0.9117840917873512, 'colsample_bytree': 0.6934465160308987, 'gamma': 2.7695607885544264, 'reg_alpha': 3.1304772455784358, 'reg_lambda': 2.477969158861889}. Best is trial 24 with value: 665.196430248955.\n",
      "[I 2025-02-16 22:32:53,245] Trial 35 finished with value: 675.7298641636771 and parameters: {'max_depth': 12, 'learning_rate': 0.06978629359517002, 'n_estimators': 413, 'min_child_weight': 7, 'subsample': 0.8499041093120648, 'colsample_bytree': 0.7610279461964897, 'gamma': 2.4130095272969845, 'reg_alpha': 3.5278200963099824, 'reg_lambda': 1.6523222156092912}. Best is trial 24 with value: 665.196430248955.\n",
      "[I 2025-02-16 22:32:56,861] Trial 36 finished with value: 673.4441475612122 and parameters: {'max_depth': 8, 'learning_rate': 0.1227514787092003, 'n_estimators': 500, 'min_child_weight': 5, 'subsample': 0.8174885412248617, 'colsample_bytree': 0.7296613013327748, 'gamma': 4.085308426113938, 'reg_alpha': 2.077554228029602, 'reg_lambda': 2.9268613238749417}. Best is trial 24 with value: 665.196430248955.\n",
      "[I 2025-02-16 22:33:01,724] Trial 37 finished with value: 681.2487028279066 and parameters: {'max_depth': 9, 'learning_rate': 0.1779972209122557, 'n_estimators': 457, 'min_child_weight': 1, 'subsample': 0.9018348286853047, 'colsample_bytree': 0.8513700849052747, 'gamma': 1.9798278804873095, 'reg_alpha': 2.52488708842162, 'reg_lambda': 2.6218614848100303}. Best is trial 24 with value: 665.196430248955.\n",
      "[I 2025-02-16 22:33:07,788] Trial 38 finished with value: 674.0963753382609 and parameters: {'max_depth': 13, 'learning_rate': 0.062495006671552555, 'n_estimators': 348, 'min_child_weight': 7, 'subsample': 0.9333440608921878, 'colsample_bytree': 0.7716948444227549, 'gamma': 3.001302331603649, 'reg_alpha': 2.31615319571377, 'reg_lambda': 2.373684045854413}. Best is trial 24 with value: 665.196430248955.\n",
      "[I 2025-02-16 22:33:10,621] Trial 39 finished with value: 671.9447638157253 and parameters: {'max_depth': 8, 'learning_rate': 0.1264666239379924, 'n_estimators': 418, 'min_child_weight': 9, 'subsample': 0.7765421236617469, 'colsample_bytree': 0.9011909038775817, 'gamma': 2.681275302939048, 'reg_alpha': 0.3525141298191441, 'reg_lambda': 3.269868871949925}. Best is trial 24 with value: 665.196430248955.\n",
      "[I 2025-02-16 22:33:17,802] Trial 40 finished with value: 667.5142506630557 and parameters: {'max_depth': 11, 'learning_rate': 0.019558446513435072, 'n_estimators': 478, 'min_child_weight': 7, 'subsample': 0.9601320699820516, 'colsample_bytree': 0.7431574274041067, 'gamma': 1.0450719740624619, 'reg_alpha': 2.8914093316336387, 'reg_lambda': 0.9328546538602178}. Best is trial 24 with value: 665.196430248955.\n",
      "[I 2025-02-16 22:33:24,858] Trial 41 finished with value: 668.4648911271622 and parameters: {'max_depth': 11, 'learning_rate': 0.03229755628789471, 'n_estimators': 479, 'min_child_weight': 7, 'subsample': 0.9620118071233157, 'colsample_bytree': 0.7450629161393711, 'gamma': 1.032178954699325, 'reg_alpha': 2.837153222489273, 'reg_lambda': 1.0844060379375815}. Best is trial 24 with value: 665.196430248955.\n",
      "[I 2025-02-16 22:33:30,752] Trial 42 finished with value: 668.8938393837047 and parameters: {'max_depth': 10, 'learning_rate': 0.02336791965724103, 'n_estimators': 479, 'min_child_weight': 8, 'subsample': 0.9441194485157014, 'colsample_bytree': 0.6981217973840412, 'gamma': 1.4186245701050164, 'reg_alpha': 3.617777464200321, 'reg_lambda': 1.6294824411750861}. Best is trial 24 with value: 665.196430248955.\n",
      "[I 2025-02-16 22:33:34,247] Trial 43 finished with value: 670.8577945019932 and parameters: {'max_depth': 11, 'learning_rate': 0.0702736565624058, 'n_estimators': 273, 'min_child_weight': 6, 'subsample': 0.8889102353227565, 'colsample_bytree': 0.7272206624221141, 'gamma': 1.2666674708086887, 'reg_alpha': 1.7896394630835397, 'reg_lambda': 0.8982159963088545}. Best is trial 24 with value: 665.196430248955.\n",
      "[I 2025-02-16 22:33:38,146] Trial 44 finished with value: 697.5545152998641 and parameters: {'max_depth': 9, 'learning_rate': 0.2926549077045513, 'n_estimators': 451, 'min_child_weight': 4, 'subsample': 0.9779493887288532, 'colsample_bytree': 0.6411485219207932, 'gamma': 4.9966446070072745, 'reg_alpha': 2.2921414889032423, 'reg_lambda': 2.2032998254384566}. Best is trial 24 with value: 665.196430248955.\n",
      "[I 2025-02-16 22:33:41,910] Trial 45 finished with value: 714.3129422191807 and parameters: {'max_depth': 13, 'learning_rate': 0.3695224389509019, 'n_estimators': 174, 'min_child_weight': 9, 'subsample': 0.860178846526725, 'colsample_bytree': 0.8215729477039034, 'gamma': 2.2837820169236975, 'reg_alpha': 2.9105882800037355, 'reg_lambda': 0.42158596600168874}. Best is trial 24 with value: 665.196430248955.\n",
      "[I 2025-02-16 22:33:47,280] Trial 46 finished with value: 664.7483020705988 and parameters: {'max_depth': 8, 'learning_rate': 0.027856458051467227, 'n_estimators': 424, 'min_child_weight': 7, 'subsample': 0.8259648681167606, 'colsample_bytree': 0.7358196879931139, 'gamma': 1.8331468500243684, 'reg_alpha': 1.3566466189993465, 'reg_lambda': 4.520272791988917}. Best is trial 46 with value: 664.7483020705988.\n",
      "[I 2025-02-16 22:33:52,188] Trial 47 finished with value: 666.6086101514096 and parameters: {'max_depth': 8, 'learning_rate': 0.022408762997821813, 'n_estimators': 421, 'min_child_weight': 10, 'subsample': 0.8209561047491631, 'colsample_bytree': 0.7409127458138035, 'gamma': 0.9758744901974112, 'reg_alpha': 1.4022328918683806, 'reg_lambda': 4.2905739037282125}. Best is trial 46 with value: 664.7483020705988.\n",
      "[I 2025-02-16 22:33:54,822] Trial 48 finished with value: 676.0174266873544 and parameters: {'max_depth': 8, 'learning_rate': 0.15830331958493038, 'n_estimators': 420, 'min_child_weight': 10, 'subsample': 0.8256859219516852, 'colsample_bytree': 0.9989243420636619, 'gamma': 1.8073940033847924, 'reg_alpha': 1.3854759778293106, 'reg_lambda': 4.463300881486522}. Best is trial 46 with value: 664.7483020705988.\n",
      "[I 2025-02-16 22:33:57,067] Trial 49 finished with value: 681.7711125360963 and parameters: {'max_depth': 8, 'learning_rate': 0.21819344755666742, 'n_estimators': 362, 'min_child_weight': 8, 'subsample': 0.7727827458598447, 'colsample_bytree': 0.8055808364958035, 'gamma': 0.4775458879534762, 'reg_alpha': 1.4384771285194602, 'reg_lambda': 4.864536855356995}. Best is trial 46 with value: 664.7483020705988.\n",
      "[I 2025-02-16 22:33:59,116] Trial 50 finished with value: 669.5771294566002 and parameters: {'max_depth': 7, 'learning_rate': 0.06453006538110764, 'n_estimators': 293, 'min_child_weight': 9, 'subsample': 0.7345913477652551, 'colsample_bytree': 0.6758728454431413, 'gamma': 1.9988576687454758, 'reg_alpha': 0.6664612144150796, 'reg_lambda': 4.130444371578563}. Best is trial 46 with value: 664.7483020705988.\n",
      "[I 2025-02-16 22:34:03,399] Trial 51 finished with value: 664.3909326944959 and parameters: {'max_depth': 10, 'learning_rate': 0.021977163612200267, 'n_estimators': 433, 'min_child_weight': 10, 'subsample': 0.8237293706732934, 'colsample_bytree': 0.7488967612224322, 'gamma': 1.058517120991893, 'reg_alpha': 1.335816329398385, 'reg_lambda': 4.663499226326632}. Best is trial 51 with value: 664.3909326944959.\n",
      "[I 2025-02-16 22:34:07,831] Trial 52 finished with value: 670.3184280507282 and parameters: {'max_depth': 10, 'learning_rate': 0.07903452541154526, 'n_estimators': 430, 'min_child_weight': 10, 'subsample': 0.8205072303213796, 'colsample_bytree': 0.7578498792412209, 'gamma': 1.5143845935359195, 'reg_alpha': 0.9381844102009596, 'reg_lambda': 4.2476508825885615}. Best is trial 51 with value: 664.3909326944959.\n",
      "[I 2025-02-16 22:34:10,157] Trial 53 finished with value: 669.2700880425468 and parameters: {'max_depth': 7, 'learning_rate': 0.026538821398248466, 'n_estimators': 403, 'min_child_weight': 11, 'subsample': 0.8414392097056569, 'colsample_bytree': 0.7805074401196062, 'gamma': 1.2297371542049529, 'reg_alpha': 1.794798816550696, 'reg_lambda': 4.725981490791334}. Best is trial 51 with value: 664.3909326944959.\n",
      "[I 2025-02-16 22:34:11,675] Trial 54 finished with value: 670.7919006793325 and parameters: {'max_depth': 5, 'learning_rate': 0.11660341639338351, 'n_estimators': 433, 'min_child_weight': 9, 'subsample': 0.8565092279212754, 'colsample_bytree': 0.7309580508875829, 'gamma': 0.9504710179827384, 'reg_alpha': 1.1811044283974215, 'reg_lambda': 4.535454946957841}. Best is trial 51 with value: 664.3909326944959.\n",
      "[I 2025-02-16 22:34:15,066] Trial 55 finished with value: 667.6544931568391 and parameters: {'max_depth': 9, 'learning_rate': 0.07966452082205598, 'n_estimators': 447, 'min_child_weight': 10, 'subsample': 0.8724324384228183, 'colsample_bytree': 0.748317178665833, 'gamma': 0.3547693406833248, 'reg_alpha': 1.3330349024098112, 'reg_lambda': 3.799103772374}. Best is trial 51 with value: 664.3909326944959.\n",
      "[I 2025-02-16 22:34:18,305] Trial 56 finished with value: 664.8784537373706 and parameters: {'max_depth': 8, 'learning_rate': 0.053910295139166946, 'n_estimators': 459, 'min_child_weight': 8, 'subsample': 0.7726867277769778, 'colsample_bytree': 0.7187176392762605, 'gamma': 0.8292823148634039, 'reg_alpha': 0.2496532254319691, 'reg_lambda': 4.979746204561596}. Best is trial 51 with value: 664.3909326944959.\n",
      "[I 2025-02-16 22:34:22,360] Trial 57 finished with value: 670.6244199629873 and parameters: {'max_depth': 10, 'learning_rate': 0.05434619475775497, 'n_estimators': 460, 'min_child_weight': 8, 'subsample': 0.7780259251232176, 'colsample_bytree': 0.7110397398788361, 'gamma': 0.8458134011385829, 'reg_alpha': 0.46469130987639296, 'reg_lambda': 4.911012691420754}. Best is trial 51 with value: 664.3909326944959.\n",
      "[I 2025-02-16 22:34:25,272] Trial 58 finished with value: 670.802942933834 and parameters: {'max_depth': 9, 'learning_rate': 0.0887451324658913, 'n_estimators': 370, 'min_child_weight': 5, 'subsample': 0.765309221177062, 'colsample_bytree': 0.682378562187783, 'gamma': 2.2084217963427335, 'reg_alpha': 0.2655551744853276, 'reg_lambda': 4.656165846329561}. Best is trial 51 with value: 664.3909326944959.\n",
      "[I 2025-02-16 22:34:27,070] Trial 59 finished with value: 669.7589392718901 and parameters: {'max_depth': 8, 'learning_rate': 0.1389995485128361, 'n_estimators': 234, 'min_child_weight': 7, 'subsample': 0.7077911240038821, 'colsample_bytree': 0.7719669671598743, 'gamma': 0.33919919452748415, 'reg_alpha': 0.7261445671173158, 'reg_lambda': 4.963880847318009}. Best is trial 51 with value: 664.3909326944959.\n",
      "[I 2025-02-16 22:34:28,654] Trial 60 finished with value: 674.1674661642455 and parameters: {'max_depth': 5, 'learning_rate': 0.04077910872811967, 'n_estimators': 486, 'min_child_weight': 3, 'subsample': 0.8080333420713617, 'colsample_bytree': 0.718434175506045, 'gamma': 0.5959639748389524, 'reg_alpha': 1.0071756433248717, 'reg_lambda': 3.6010279315466933}. Best is trial 51 with value: 664.3909326944959.\n",
      "[I 2025-02-16 22:34:30,702] Trial 61 finished with value: 679.6678950740979 and parameters: {'max_depth': 7, 'learning_rate': 0.014228912995161817, 'n_estimators': 400, 'min_child_weight': 13, 'subsample': 0.7879065028743664, 'colsample_bytree': 0.7398996825714409, 'gamma': 0.8697843960147377, 'reg_alpha': 1.7012577546772678, 'reg_lambda': 4.268240362467842}. Best is trial 51 with value: 664.3909326944959.\n",
      "[I 2025-02-16 22:34:33,495] Trial 62 finished with value: 665.380696438635 and parameters: {'max_depth': 8, 'learning_rate': 0.029615391860252038, 'n_estimators': 470, 'min_child_weight': 9, 'subsample': 0.8232395792608244, 'colsample_bytree': 0.7834116176474902, 'gamma': 1.8091805921953499, 'reg_alpha': 1.4990093577031618, 'reg_lambda': 4.6040029695149}. Best is trial 51 with value: 664.3909326944959.\n",
      "[I 2025-02-16 22:34:36,702] Trial 63 finished with value: 665.5714212850341 and parameters: {'max_depth': 9, 'learning_rate': 0.05567702443103566, 'n_estimators': 470, 'min_child_weight': 9, 'subsample': 0.8352911064372639, 'colsample_bytree': 0.7917913359925052, 'gamma': 1.7816389438695437, 'reg_alpha': 1.5782367454302149, 'reg_lambda': 4.650040872335311}. Best is trial 51 with value: 664.3909326944959.\n",
      "[I 2025-02-16 22:34:39,178] Trial 64 finished with value: 714.5930208615752 and parameters: {'max_depth': 8, 'learning_rate': 0.4484175390201432, 'n_estimators': 444, 'min_child_weight': 11, 'subsample': 0.831089978707656, 'colsample_bytree': 0.7934905643019254, 'gamma': 1.2403001241710023, 'reg_alpha': 0.5749412661569777, 'reg_lambda': 4.657752736508707}. Best is trial 51 with value: 664.3909326944959.\n",
      "[I 2025-02-16 22:34:44,451] Trial 65 finished with value: 668.4833101045958 and parameters: {'max_depth': 10, 'learning_rate': 0.0608003810825378, 'n_estimators': 491, 'min_child_weight': 9, 'subsample': 0.8101138362610254, 'colsample_bytree': 0.8187478325391748, 'gamma': 1.573433048978647, 'reg_alpha': 1.5491579708019028, 'reg_lambda': 3.961661035692263}. Best is trial 51 with value: 664.3909326944959.\n",
      "[I 2025-02-16 22:34:47,892] Trial 66 finished with value: 670.033534326546 and parameters: {'max_depth': 7, 'learning_rate': 0.10909725351851451, 'n_estimators': 470, 'min_child_weight': 8, 'subsample': 0.7498930934658989, 'colsample_bytree': 0.8064080400644245, 'gamma': 1.9175126890075713, 'reg_alpha': 0.2857330561970102, 'reg_lambda': 4.491975041024117}. Best is trial 51 with value: 664.3909326944959.\n",
      "[I 2025-02-16 22:34:52,888] Trial 67 finished with value: 663.6994508738459 and parameters: {'max_depth': 9, 'learning_rate': 0.03607511034651402, 'n_estimators': 457, 'min_child_weight': 9, 'subsample': 0.788013767956862, 'colsample_bytree': 0.7796829368348881, 'gamma': 1.7144135499398994, 'reg_alpha': 0.863038831547004, 'reg_lambda': 4.706948512156439}. Best is trial 67 with value: 663.6994508738459.\n",
      "[I 2025-02-16 22:34:56,734] Trial 68 finished with value: 667.8046766606448 and parameters: {'max_depth': 6, 'learning_rate': 0.08847383992833063, 'n_estimators': 432, 'min_child_weight': 9, 'subsample': 0.7876626127193714, 'colsample_bytree': 0.786061574749891, 'gamma': 0.6929286237993483, 'reg_alpha': 0.828495584990727, 'reg_lambda': 4.748611090799496}. Best is trial 67 with value: 663.6994508738459.\n",
      "[I 2025-02-16 22:35:01,175] Trial 69 finished with value: 662.8490080775366 and parameters: {'max_depth': 8, 'learning_rate': 0.03331458662898243, 'n_estimators': 455, 'min_child_weight': 10, 'subsample': 0.7202530063181093, 'colsample_bytree': 0.8709382406145137, 'gamma': 1.4051598223939359, 'reg_alpha': 1.135672878290175, 'reg_lambda': 4.600904783112564}. Best is trial 69 with value: 662.8490080775366.\n",
      "[I 2025-02-16 22:35:04,408] Trial 70 finished with value: 663.6217803749452 and parameters: {'max_depth': 8, 'learning_rate': 0.03135910337649, 'n_estimators': 454, 'min_child_weight': 10, 'subsample': 0.7099246163221673, 'colsample_bytree': 0.9202945549448714, 'gamma': 2.1760410723254724, 'reg_alpha': 0.5487418102552568, 'reg_lambda': 4.346072575549957}. Best is trial 69 with value: 662.8490080775366.\n",
      "[I 2025-02-16 22:35:07,586] Trial 71 finished with value: 663.1989077088194 and parameters: {'max_depth': 8, 'learning_rate': 0.0314076683501728, 'n_estimators': 453, 'min_child_weight': 10, 'subsample': 0.7041936000810991, 'colsample_bytree': 0.9116821283399034, 'gamma': 2.1021169076913244, 'reg_alpha': 0.13405710741066612, 'reg_lambda': 4.978996335799571}. Best is trial 69 with value: 662.8490080775366.\n",
      "[I 2025-02-16 22:35:09,727] Trial 72 finished with value: 665.71170372327 and parameters: {'max_depth': 7, 'learning_rate': 0.03510925272045471, 'n_estimators': 452, 'min_child_weight': 12, 'subsample': 0.6967751058960969, 'colsample_bytree': 0.9261439288378306, 'gamma': 2.090091848258371, 'reg_alpha': 0.19520485112406516, 'reg_lambda': 4.954087008237124}. Best is trial 69 with value: 662.8490080775366.\n",
      "[I 2025-02-16 22:35:12,557] Trial 73 finished with value: 670.7080255969445 and parameters: {'max_depth': 8, 'learning_rate': 0.01357232801312103, 'n_estimators': 441, 'min_child_weight': 11, 'subsample': 0.7228409674648444, 'colsample_bytree': 0.8854001611855403, 'gamma': 2.3386178516151457, 'reg_alpha': 0.012834851021565369, 'reg_lambda': 4.374551089286494}. Best is trial 69 with value: 662.8490080775366.\n",
      "[I 2025-02-16 22:35:15,234] Trial 74 finished with value: 666.4173585739011 and parameters: {'max_depth': 8, 'learning_rate': 0.07727032087501795, 'n_estimators': 427, 'min_child_weight': 10, 'subsample': 0.6566764392325256, 'colsample_bytree': 0.9409851063315503, 'gamma': 1.42903793804133, 'reg_alpha': 0.5487913940214052, 'reg_lambda': 4.752964149132223}. Best is trial 69 with value: 662.8490080775366.\n",
      "[I 2025-02-16 22:35:18,376] Trial 75 finished with value: 663.1804656114078 and parameters: {'max_depth': 9, 'learning_rate': 0.04682981933714611, 'n_estimators': 459, 'min_child_weight': 11, 'subsample': 0.702097520634611, 'colsample_bytree': 0.9127831683553735, 'gamma': 2.1549288153217834, 'reg_alpha': 0.7859251610469236, 'reg_lambda': 3.9502092328393377}. Best is trial 69 with value: 662.8490080775366.\n",
      "[I 2025-02-16 22:35:20,069] Trial 76 finished with value: 670.9894829148272 and parameters: {'max_depth': 6, 'learning_rate': 0.031126740711142575, 'n_estimators': 402, 'min_child_weight': 12, 'subsample': 0.6892083082958375, 'colsample_bytree': 0.9098672443014014, 'gamma': 2.1599092142936316, 'reg_alpha': 0.7556856199868891, 'reg_lambda': 4.031144923921621}. Best is trial 69 with value: 662.8490080775366.\n",
      "[I 2025-02-16 22:35:22,471] Trial 77 finished with value: 664.8456464349393 and parameters: {'max_depth': 7, 'learning_rate': 0.054344908118236765, 'n_estimators': 455, 'min_child_weight': 10, 'subsample': 0.7187187904865588, 'colsample_bytree': 0.8801730504642721, 'gamma': 1.6338050936312976, 'reg_alpha': 0.40700581479711423, 'reg_lambda': 4.395405489959586}. Best is trial 69 with value: 662.8490080775366.\n",
      "[I 2025-02-16 22:35:24,510] Trial 78 finished with value: 689.9713897545839 and parameters: {'max_depth': 7, 'learning_rate': 0.26842528664792403, 'n_estimators': 439, 'min_child_weight': 11, 'subsample': 0.7311150277389826, 'colsample_bytree': 0.8705029303094284, 'gamma': 2.627469462835937, 'reg_alpha': 0.9813662209096952, 'reg_lambda': 3.8671321899078617}. Best is trial 69 with value: 662.8490080775366.\n",
      "[I 2025-02-16 22:35:25,538] Trial 79 finished with value: 688.7255435686686 and parameters: {'max_depth': 3, 'learning_rate': 0.09814037412495616, 'n_estimators': 454, 'min_child_weight': 14, 'subsample': 0.705951564258787, 'colsample_bytree': 0.9264750758413008, 'gamma': 1.6375682297155119, 'reg_alpha': 1.2724443657209503, 'reg_lambda': 4.3966517788350945}. Best is trial 69 with value: 662.8490080775366.\n",
      "[I 2025-02-16 22:35:27,654] Trial 80 finished with value: 692.6263403554567 and parameters: {'max_depth': 6, 'learning_rate': 0.011223213666196682, 'n_estimators': 411, 'min_child_weight': 10, 'subsample': 0.7403131873870629, 'colsample_bytree': 0.8839313433362478, 'gamma': 2.0223565268803556, 'reg_alpha': 1.097048747694684, 'reg_lambda': 3.623652562122763}. Best is trial 69 with value: 662.8490080775366.\n",
      "[I 2025-02-16 22:35:29,539] Trial 81 finished with value: 665.1243337245114 and parameters: {'max_depth': 7, 'learning_rate': 0.05206151663611642, 'n_estimators': 460, 'min_child_weight': 10, 'subsample': 0.7591444931536963, 'colsample_bytree': 0.96348521440742, 'gamma': 1.3363507282653613, 'reg_alpha': 0.3945730755180131, 'reg_lambda': 4.834765233419649}. Best is trial 69 with value: 662.8490080775366.\n",
      "[I 2025-02-16 22:35:31,818] Trial 82 finished with value: 665.9208376743908 and parameters: {'max_depth': 8, 'learning_rate': 0.06837210664563134, 'n_estimators': 446, 'min_child_weight': 11, 'subsample': 0.7151002696881212, 'colsample_bytree': 0.9181892853631557, 'gamma': 1.1443549106922357, 'reg_alpha': 0.5529527762258127, 'reg_lambda': 4.147506147401323}. Best is trial 69 with value: 662.8490080775366.\n",
      "[I 2025-02-16 22:35:35,134] Trial 83 finished with value: 662.2017852306767 and parameters: {'max_depth': 9, 'learning_rate': 0.041984935253634975, 'n_estimators': 424, 'min_child_weight': 12, 'subsample': 0.6585538591297511, 'colsample_bytree': 0.9460111763299219, 'gamma': 1.5310347365955712, 'reg_alpha': 0.8211107795498672, 'reg_lambda': 4.99237924788323}. Best is trial 83 with value: 662.2017852306767.\n",
      "[I 2025-02-16 22:35:38,279] Trial 84 finished with value: 663.0188290620226 and parameters: {'max_depth': 9, 'learning_rate': 0.040702912738405234, 'n_estimators': 427, 'min_child_weight': 12, 'subsample': 0.6373630800795578, 'colsample_bytree': 0.9475328580345733, 'gamma': 1.5250973888660229, 'reg_alpha': 0.8510126483661812, 'reg_lambda': 4.531031764321087}. Best is trial 83 with value: 662.2017852306767.\n",
      "[I 2025-02-16 22:35:40,793] Trial 85 finished with value: 663.2418031125613 and parameters: {'max_depth': 9, 'learning_rate': 0.04106752759290915, 'n_estimators': 396, 'min_child_weight': 14, 'subsample': 0.6191033287890315, 'colsample_bytree': 0.9468493860092678, 'gamma': 1.4923736634514997, 'reg_alpha': 0.8109991005921832, 'reg_lambda': 4.54252915181928}. Best is trial 83 with value: 662.2017852306767.\n",
      "[I 2025-02-16 22:35:43,695] Trial 86 finished with value: 663.0853337549145 and parameters: {'max_depth': 10, 'learning_rate': 0.041122107472335245, 'n_estimators': 389, 'min_child_weight': 14, 'subsample': 0.6268716315378312, 'colsample_bytree': 0.9442437352778383, 'gamma': 1.4528589875925553, 'reg_alpha': 0.8553695111730149, 'reg_lambda': 4.797454208608813}. Best is trial 83 with value: 662.2017852306767.\n",
      "[I 2025-02-16 22:35:46,169] Trial 87 finished with value: 662.4330345341855 and parameters: {'max_depth': 9, 'learning_rate': 0.04425520055684016, 'n_estimators': 376, 'min_child_weight': 13, 'subsample': 0.6106983559775391, 'colsample_bytree': 0.9477073028582017, 'gamma': 1.4362187046693111, 'reg_alpha': 0.8215113698560057, 'reg_lambda': 4.806379858699699}. Best is trial 83 with value: 662.2017852306767.\n",
      "[I 2025-02-16 22:35:48,727] Trial 88 finished with value: 665.0684933934722 and parameters: {'max_depth': 10, 'learning_rate': 0.06962856504087775, 'n_estimators': 331, 'min_child_weight': 14, 'subsample': 0.6041572959637441, 'colsample_bytree': 0.9502477175836919, 'gamma': 1.493235207647777, 'reg_alpha': 0.798207319570017, 'reg_lambda': 4.788518136552047}. Best is trial 83 with value: 662.2017852306767.\n",
      "[I 2025-02-16 22:35:51,191] Trial 89 finished with value: 668.3660042087245 and parameters: {'max_depth': 9, 'learning_rate': 0.08651933646634796, 'n_estimators': 397, 'min_child_weight': 14, 'subsample': 0.6398769971754695, 'colsample_bytree': 0.9757317146182983, 'gamma': 3.1424449714580005, 'reg_alpha': 0.6948327888745283, 'reg_lambda': 4.551727222365822}. Best is trial 83 with value: 662.2017852306767.\n",
      "[I 2025-02-16 22:35:53,733] Trial 90 finished with value: 669.2277829238792 and parameters: {'max_depth': 9, 'learning_rate': 0.10287076266893701, 'n_estimators': 374, 'min_child_weight': 13, 'subsample': 0.6221496559948728, 'colsample_bytree': 0.9412183500239152, 'gamma': 1.3418396720888335, 'reg_alpha': 0.12324459664756578, 'reg_lambda': 4.182970692864652}. Best is trial 83 with value: 662.2017852306767.\n",
      "[I 2025-02-16 22:35:56,010] Trial 91 finished with value: 662.5459566855698 and parameters: {'max_depth': 9, 'learning_rate': 0.040546488575757, 'n_estimators': 357, 'min_child_weight': 15, 'subsample': 0.6497098844009193, 'colsample_bytree': 0.9893838373211782, 'gamma': 1.7166510502600396, 'reg_alpha': 0.9214086480152488, 'reg_lambda': 4.835002559405641}. Best is trial 83 with value: 662.2017852306767.\n",
      "[I 2025-02-16 22:35:59,744] Trial 92 finished with value: 662.5518797894516 and parameters: {'max_depth': 9, 'learning_rate': 0.046251023683664474, 'n_estimators': 348, 'min_child_weight': 15, 'subsample': 0.6495439554633986, 'colsample_bytree': 0.9847768833125309, 'gamma': 1.9563217112603795, 'reg_alpha': 1.0534060017330784, 'reg_lambda': 4.861119253105792}. Best is trial 83 with value: 662.2017852306767.\n",
      "[I 2025-02-16 22:36:02,180] Trial 93 finished with value: 662.155194130876 and parameters: {'max_depth': 10, 'learning_rate': 0.04362057322423887, 'n_estimators': 347, 'min_child_weight': 15, 'subsample': 0.6522133845117385, 'colsample_bytree': 0.9900094274295523, 'gamma': 1.9287966647376933, 'reg_alpha': 1.0772817412118416, 'reg_lambda': 4.893832846272109}. Best is trial 93 with value: 662.155194130876.\n",
      "[I 2025-02-16 22:36:05,584] Trial 94 finished with value: 665.6218901189221 and parameters: {'max_depth': 11, 'learning_rate': 0.06539665053082948, 'n_estimators': 352, 'min_child_weight': 15, 'subsample': 0.6532872002776644, 'colsample_bytree': 0.9945655928745087, 'gamma': 1.9551645722294615, 'reg_alpha': 1.0231927275606196, 'reg_lambda': 4.862508424520214}. Best is trial 93 with value: 662.155194130876.\n",
      "[I 2025-02-16 22:36:09,036] Trial 95 finished with value: 662.7417413965184 and parameters: {'max_depth': 10, 'learning_rate': 0.04649194046033753, 'n_estimators': 316, 'min_child_weight': 15, 'subsample': 0.6366876270568015, 'colsample_bytree': 0.9847289701536829, 'gamma': 2.34334768764558, 'reg_alpha': 1.180688228178892, 'reg_lambda': 4.868246448617904}. Best is trial 93 with value: 662.155194130876.\n",
      "[I 2025-02-16 22:36:12,746] Trial 96 finished with value: 662.3282934930407 and parameters: {'max_depth': 10, 'learning_rate': 0.04838615791532252, 'n_estimators': 314, 'min_child_weight': 15, 'subsample': 0.6384490373942897, 'colsample_bytree': 0.9845218773815447, 'gamma': 2.320939857719942, 'reg_alpha': 1.220749457665286, 'reg_lambda': 4.836827933727967}. Best is trial 93 with value: 662.155194130876.\n",
      "[I 2025-02-16 22:36:15,336] Trial 97 finished with value: 667.4454428752737 and parameters: {'max_depth': 11, 'learning_rate': 0.0766316072278741, 'n_estimators': 316, 'min_child_weight': 15, 'subsample': 0.6330963906705489, 'colsample_bytree': 0.9836330784122079, 'gamma': 2.331499096215393, 'reg_alpha': 1.2238060115638478, 'reg_lambda': 4.8349442703020005}. Best is trial 93 with value: 662.155194130876.\n",
      "[I 2025-02-16 22:36:17,744] Trial 98 finished with value: 663.4143974077738 and parameters: {'max_depth': 10, 'learning_rate': 0.04487357819733744, 'n_estimators': 307, 'min_child_weight': 15, 'subsample': 0.6652422135376113, 'colsample_bytree': 0.9724821447669868, 'gamma': 2.7545175145621172, 'reg_alpha': 1.082336359620505, 'reg_lambda': 4.8237032206071095}. Best is trial 93 with value: 662.155194130876.\n",
      "[I 2025-02-16 22:36:20,390] Trial 99 finished with value: 664.4528740833671 and parameters: {'max_depth': 10, 'learning_rate': 0.02084827795783319, 'n_estimators': 345, 'min_child_weight': 14, 'subsample': 0.6467314467746659, 'colsample_bytree': 0.984507274804276, 'gamma': 2.530541516501133, 'reg_alpha': 0.9379052303570323, 'reg_lambda': 4.897186420047372}. Best is trial 93 with value: 662.155194130876.\n"
     ]
    },
    {
     "name": "stdout",
     "output_type": "stream",
     "text": [
      "\n",
      "Best parameters: {'max_depth': 10, 'learning_rate': 0.04362057322423887, 'n_estimators': 347, 'min_child_weight': 15, 'subsample': 0.6522133845117385, 'colsample_bytree': 0.9900094274295523, 'gamma': 1.9287966647376933, 'reg_alpha': 1.0772817412118416, 'reg_lambda': 4.893832846272109}\n"
     ]
    }
   ],
   "source": [
    "# Run optimization\n",
    "with mlflow.start_run():\n",
    "    best_params = optimizer.optimize()\n",
    "    print(\"\\nBest parameters:\", best_params)"
   ]
  },
  {
   "cell_type": "code",
   "execution_count": 8,
   "metadata": {},
   "outputs": [],
   "source": [
    "from src.models.xgboost_analyzer import XGBoostAnalyzer"
   ]
  },
  {
   "cell_type": "code",
   "execution_count": 9,
   "metadata": {},
   "outputs": [
    {
     "name": "stdout",
     "output_type": "stream",
     "text": [
      "\n",
      "Test Set Metrics:\n",
      "test_rmse: 652.9936\n",
      "test_r2: 0.7525\n"
     ]
    }
   ],
   "source": [
    " #Initialize and train XGBoost model with best parameters\n",
    "xgb_model = XGBoostAnalyzer(config=None, params=best_params)  # Pass None to override default params\n",
    "\n",
    "# Create datasets with selected features#\n",
    "\n",
    "# Train the model\n",
    "xgb_model.train(X_train, y_train)\n",
    "\n",
    "\n",
    "# Evaluate model\n",
    "metrics = xgb_model.evaluate(X_test, y_test, dataset_name=\"test\")\n",
    "print(\"\\nTest Set Metrics:\")\n",
    "for name, value in metrics.items():\n",
    "    print(f\"{name}: {value:.4f}\")\n",
    "\n",
    "# Plot feature importance\n",
    "#xgb_model.plot_feature_importance()\n"
   ]
  },
  {
   "cell_type": "code",
   "execution_count": 14,
   "metadata": {},
   "outputs": [],
   "source": [
    "xgb_model.plot_predictions(X_test, y_test, dataset_name=\"test\")"
   ]
  }
 ],
 "metadata": {
  "kernelspec": {
   "display_name": ".env",
   "language": "python",
   "name": "python3"
  },
  "language_info": {
   "codemirror_mode": {
    "name": "ipython",
    "version": 3
   },
   "file_extension": ".py",
   "mimetype": "text/x-python",
   "name": "python",
   "nbconvert_exporter": "python",
   "pygments_lexer": "ipython3",
   "version": "3.12.4"
  }
 },
 "nbformat": 4,
 "nbformat_minor": 2
}
